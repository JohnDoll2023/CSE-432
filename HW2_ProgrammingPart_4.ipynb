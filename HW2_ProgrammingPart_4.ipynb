{
  "nbformat": 4,
  "nbformat_minor": 0,
  "metadata": {
    "colab": {
      "name": "HW2_ProgrammingPart-4.ipynb",
      "provenance": [],
      "collapsed_sections": [],
      "include_colab_link": true
    },
    "kernelspec": {
      "name": "python3",
      "display_name": "Python 3"
    },
    "language_info": {
      "name": "python"
    }
  },
  "cells": [
    {
      "cell_type": "markdown",
      "metadata": {
        "id": "view-in-github",
        "colab_type": "text"
      },
      "source": [
        "<a href=\"https://colab.research.google.com/github/JohnDoll2023/CSE-432/blob/main/HW2_ProgrammingPart_4.ipynb\" target=\"_parent\"><img src=\"https://colab.research.google.com/assets/colab-badge.svg\" alt=\"Open In Colab\"/></a>"
      ]
    },
    {
      "cell_type": "markdown",
      "source": [
        "# This is the instructions for HW 2 Programming Part.\n",
        "\n",
        "# In this homework, you have three programming assigments\n",
        "\n",
        "# The submission deadline is March 4th (next Friday) 23:59PM. Please submit the ipynb file to the canvas\n",
        "\n",
        "The demos we used in the class can be found using the following link:\n",
        "\n",
        "https://colab.research.google.com/drive/1ONTJ_L_4CMcyJcXdCeljRntazdW1zjW6?usp=sharing\n",
        "\n",
        "https://colab.research.google.com/drive/1QI4v4_1bdeN5dJ_McV1Xn-RiavYvgymn?usp=sharing\n",
        "\n",
        "# ==============================================="
      ],
      "metadata": {
        "id": "858xvPa0cfoM"
      }
    },
    {
      "cell_type": "markdown",
      "source": [
        "# Question 1: KNN in image classification\n",
        "\n",
        "## [MNIST dataset](https://www.tensorflow.org/datasets/catalog/mnist)\n",
        "\n",
        "The following code downloads the MNIST dataset from the official website. Run this just once to get the \"mnist.pkl\" file. \n",
        "\n",
        "After you run this code, you can find the file in the \"Files\" option from the tool bar on the left \n",
        "\n",
        "<-"
      ],
      "metadata": {
        "id": "Sxcjr1VudWSb"
      }
    },
    {
      "cell_type": "code",
      "execution_count": null,
      "metadata": {
        "id": "XntJALc5cacw",
        "colab": {
          "base_uri": "https://localhost:8080/"
        },
        "outputId": "b52dd43f-c6be-4547-9e1f-56c9463bd7b8"
      },
      "outputs": [
        {
          "output_type": "stream",
          "name": "stdout",
          "text": [
            "Downloading train-images-idx3-ubyte.gz...\n",
            "Downloading t10k-images-idx3-ubyte.gz...\n",
            "Downloading train-labels-idx1-ubyte.gz...\n",
            "Downloading t10k-labels-idx1-ubyte.gz...\n",
            "Download complete.\n",
            "Save complete.\n"
          ]
        }
      ],
      "source": [
        "import numpy as np\n",
        "from urllib import request\n",
        "import gzip\n",
        "import pickle\n",
        "\n",
        "filename = [\n",
        "[\"training_images\",\"train-images-idx3-ubyte.gz\"],\n",
        "[\"test_images\",\"t10k-images-idx3-ubyte.gz\"],\n",
        "[\"training_labels\",\"train-labels-idx1-ubyte.gz\"],\n",
        "[\"test_labels\",\"t10k-labels-idx1-ubyte.gz\"]\n",
        "]\n",
        "\n",
        "def download_mnist():\n",
        "    base_url = \"http://yann.lecun.com/exdb/mnist/\"\n",
        "    for name in filename:\n",
        "        print(\"Downloading \"+name[1]+\"...\")\n",
        "        request.urlretrieve(base_url+name[1], name[1])\n",
        "    print(\"Download complete.\")\n",
        "\n",
        "def save_mnist():\n",
        "    mnist = {}\n",
        "    for name in filename[:2]:\n",
        "        with gzip.open(name[1], 'rb') as f:\n",
        "            mnist[name[0]] = np.frombuffer(f.read(), np.uint8, offset=16).reshape(-1,28*28)\n",
        "    for name in filename[-2:]:\n",
        "        with gzip.open(name[1], 'rb') as f:\n",
        "            mnist[name[0]] = np.frombuffer(f.read(), np.uint8, offset=8)\n",
        "    with open(\"mnist.pkl\", 'wb') as f:\n",
        "        pickle.dump(mnist,f)\n",
        "    print(\"Save complete.\")\n",
        "\n",
        "def init():\n",
        "    download_mnist()\n",
        "    save_mnist()\n",
        "#    print ((load()[0]).shape)\n",
        "def load():\n",
        "    with open(\"mnist.pkl\",'rb') as f:\n",
        "        mnist = pickle.load(f)\n",
        "    return mnist[\"training_images\"], mnist[\"training_labels\"], mnist[\"test_images\"], mnist[\"test_labels\"]\n",
        "\n",
        "if __name__ == '__main__':\n",
        "    init()"
      ]
    },
    {
      "cell_type": "markdown",
      "source": [
        "## In the next part, please implement the KNN function for hand written digit recognition\n",
        "\n"
      ],
      "metadata": {
        "id": "Atv56Vm7dgnH"
      }
    },
    {
      "cell_type": "markdown",
      "source": [
        "**x_train** : 60,000x784 numpy array that each row contains flattened version of training images. \n",
        "\n",
        "**y_train** : 1x60,000 numpy array that each component is true label of the  corresponding training images. \n",
        "\n",
        "**x_test** : 10,000x784 numpy array that each row contains flattened version of\n",
        "test images. \n",
        "\n",
        "**y_test** : 1x10,000 numpy array that each component is true label of the \n",
        "corresponding test images. "
      ],
      "metadata": {
        "id": "yRq3R-3Ice4V"
      }
    },
    {
      "cell_type": "markdown",
      "source": [
        "**Notice**:  Once  you  get  “mnist.pkl”,  you  don't  need  to  call  init()  anymore. \n",
        "Everything you need to do is to locate “mnist.pkl” \n",
        "in your working directory and  to call load(). Then you can load  the MNIST \n",
        "database in your code (given below) "
      ],
      "metadata": {
        "id": "42I7r1GMezTX"
      }
    },
    {
      "cell_type": "markdown",
      "source": [
        "**Notice**: Due to the high computational complexity of KNN, you do not need \n",
        "to  classify  all  10000  test  images.  Instead,  you  can  select  how  many  test \n",
        "images to classify in line51 and line52 of “knn.py” (e.g. 20 images). "
      ],
      "metadata": {
        "id": "ccLLytZbe9Ga"
      }
    },
    {
      "cell_type": "markdown",
      "source": [
        "**Note**: Part of “knn.py” for data loading and plotting has been given. You can \n",
        "utilize them or write your own codes. You can choose the value of k. Also, \n",
        "choose L2 distance as the measurement metric. "
      ],
      "metadata": {
        "id": "DIuKSzPGfAef"
      }
    },
    {
      "cell_type": "markdown",
      "source": [
        "Accuracy result and execution time should be printed out and you can directly use the code provided in the following"
      ],
      "metadata": {
        "id": "2JDBf3rpfUpK"
      }
    },
    {
      "cell_type": "code",
      "source": [
        "import math\n",
        "import numpy as np  \n",
        "import operator  \n",
        "import time\n",
        "import pickle\n",
        "\n",
        "\n",
        "def load():\n",
        "    with open(\"mnist.pkl\",'rb') as f:\n",
        "        mnist = pickle.load(f)\n",
        "    return mnist[\"training_images\"], mnist[\"training_labels\"], mnist[\"test_images\"], mnist[\"test_labels\"]\n",
        "\n",
        "# classify using kNN  \n",
        "#x_train = np.load('../x_train.npy')\n",
        "#y_train = np.load('../y_train.npy')\n",
        "#x_test = np.load('../x_test.npy')\n",
        "#y_test = np.load('../y_test.npy')\n",
        "x_train, y_train, x_test, y_test = load()\n",
        "# print(x_train.shape)\n",
        "# print(y_train.shape)\n",
        "# print(y_test[0:20])\n",
        "# print(x_train[0:1])\n",
        "\n",
        "\n",
        "def kNNClassify(newInput, dataSet, labels, k): \n",
        "    result=[]\n",
        "    ########################\n",
        "    # Input your code here #\n",
        "    ########################\n",
        "    \n",
        "    #step 1: calculate Euclidean distance (L2)\n",
        "    # there is one distance array for each point in the newInput set\n",
        "    distances = []\n",
        "    # the newPointArr holds each distance array in it\n",
        "    newPointArr = []\n",
        "    # the dimension variable signals how many different attributes we are \n",
        "    # comparing\n",
        "    dimension = len(newInput[0])\n",
        "    dist = 0\n",
        "    # loop thru all points that need to be categorized\n",
        "    for newPoint in newInput:\n",
        "      distances = []\n",
        "      # compare each point with each dataSet point we have\n",
        "      for trainPoint in dataSet:\n",
        "        dist = 0\n",
        "        # calculate the distance at every attribute\n",
        "        for i in range(dimension):\n",
        "          dist += (int(newPoint[i]) - int(trainPoint[i])) ** 2\n",
        "        # add that dist between newPoint[i] and dataSet point[j] to distances\n",
        "        # array\n",
        "        distances.append(dist)\n",
        "      # once we are done looping thru our new point, add its distances array to\n",
        "      # our list of arrays for each new point\n",
        "      newPointArr.append(distances)\n",
        "\n",
        "    #step 2: sort the distance \n",
        "    # this sorts the distance and a copy of the label set simulataneously so\n",
        "    # that they are both in the same order\n",
        "    for i in range(len(newPointArr)):\n",
        "      list1 = newPointArr[i]\n",
        "      list2 = y_train\n",
        "      list1, list2 = zip(*sorted(zip(list1, list2)))\n",
        "      newPointArr[i] = list2[0:k]\n",
        "\n",
        "    #step 3: the max voted class will return \n",
        "    # for each column in our new point array, we map the values and find the max\n",
        "    for col in newPointArr:\n",
        "      occurrences = {0:0, 1:0, 2:0, 3:0, 4:0, 5:0, 6:0, 7:0, 8:0, 9:0}\n",
        "      max = 0\n",
        "      maxKey = 0\n",
        "      # for each label, update its frequency, then check to see if it has the\n",
        "      # max number of occurrences and updates maxes if true\n",
        "      for label in col:\n",
        "        occurrences[label] = occurrences.get(label) + 1\n",
        "        if occurrences.get(label) > max:\n",
        "          max = occurrences.get(label)\n",
        "          maxKey = label\n",
        "\n",
        "      result.append(maxKey)\n",
        "    \n",
        "    ####################\n",
        "    # End of your code #\n",
        "    ####################\n",
        "    return result\n",
        "\n",
        "start_time = time.time()\n",
        "outputlabels=kNNClassify(x_test[0:20],x_train,y_train,10)\n",
        "result = y_test[0:20] - outputlabels\n",
        "result = (1 - np.count_nonzero(result)/len(outputlabels))\n",
        "print (\"---classification accuracy for knn on mnist: %s ---\" %result)\n",
        "print (\"---execution time: %s seconds ---\" % (time.time() - start_time))"
      ],
      "metadata": {
        "id": "Ij0t0dd3fGz_",
        "colab": {
          "base_uri": "https://localhost:8080/"
        },
        "outputId": "e0b0397f-2467-4fb4-b860-ca547a53e17c"
      },
      "execution_count": null,
      "outputs": [
        {
          "output_type": "stream",
          "name": "stdout",
          "text": [
            "---classification accuracy for knn on mnist: 1.0 ---\n",
            "---execution time: 720.0332243442535 seconds ---\n"
          ]
        }
      ]
    },
    {
      "cell_type": "markdown",
      "source": [
        "# Question 2 [K-Means](https://colab.research.google.com/drive/1QI4v4_1bdeN5dJ_McV1Xn-RiavYvgymn?usp=sharing) (Required for graduate students) (Optional for undergraduate students without bonus)"
      ],
      "metadata": {
        "id": "3nwmkhPbfksl"
      }
    },
    {
      "cell_type": "markdown",
      "source": [
        "The following code provide three functions which are DrawFun (plotting the data),getEuclidean (calculate the l2-distance between two data) and the k-means (implementation of the k-means algorithm). We also provde the data generation code in the next code block. "
      ],
      "metadata": {
        "id": "yHXd3z_ofsog"
      }
    },
    {
      "cell_type": "markdown",
      "source": [
        "## **Your job:**\n",
        "\n",
        "The k-means function provided below will stop when it finished the number of iterations you set. However, for some dataset, the new center will not change after a few iterations. So, we should set the first criteria we mentioned in the slides. \n",
        "\n",
        "Please read the code for k-means function and modify it so that if, in the new iteration, the distances between each pair of the new centroids and the previous centroids are smaller than distance threshold (i.e.,\"distanceTh\"), the k-means algorithm should also stop. The \"distanceTh\" is provided in the testing code below. Please directly use this.\n",
        "\n",
        "At each iteration, please print out the distances between each pair of the new centroids and the previous centroids and the threshold(i.e.,\"distanceTh\"). Please also print out the number of iterations when K-means algorithm stops."
      ],
      "metadata": {
        "id": "6nBJUeNKgXZj"
      }
    },
    {
      "cell_type": "code",
      "source": [
        "import math\n",
        "import matplotlib.pyplot as plt\n",
        "import random\n",
        "\n",
        "#draw the function\n",
        "def DrawFun(C,labels,Center):\n",
        "  #C is the data, N x D x 2 : N represents the class C[0] is Dx2 which contains all the data belong to the first class.\n",
        "  #D is all the data points (total number is unknown)\n",
        "  #the center points for each cluster\n",
        "  colValue = ['r', 'y', 'g', 'b', 'c', 'k', 'm']\n",
        "  for i in range(len(C)):\n",
        "      coo_X = []    \n",
        "      coo_Y = []    \n",
        "      for j in range(len(C[i])):\n",
        "          coo_X.append(C[i][j][0])\n",
        "          coo_Y.append(C[i][j][1])\n",
        "      plt.scatter(coo_X, coo_Y, marker='x', color=colValue[i%len(colValue)], label=i)\n",
        "  Or_X=[]\n",
        "  Or_Y=[]\n",
        "  for item in Center:\n",
        "    Or_X.append(item[0])\n",
        "    Or_Y.append(item[1])\n",
        "  plt.scatter(Or_X, Or_Y, marker='o', color='k', label=0)\n",
        "\n",
        "  #plt.legend(loc='upper right')\n",
        "  plt.show()\n",
        "  print(labels)\n",
        "\n",
        " #l-2 distance\n",
        "def getEuclidean(point1, point2):\n",
        "    dimension = len(point1)\n",
        "    dist = 0.0\n",
        "    for i in range(dimension):\n",
        "        dist += (point1[i] - point2[i]) ** 2\n",
        "    return math.sqrt(dist)\n",
        " #k-means\n",
        "  ########################\n",
        "  # Modify the following code#\n",
        "  ########################\n",
        "def k_means(dataset, k, iteration,distanceTh):\n",
        "    index = random.sample(list(range(len(dataset))), k)\n",
        "    vectors = []\n",
        "    for i in index:\n",
        "        vectors.append(dataset[i])\n",
        "    labels = []\n",
        "    for i in range(len(dataset)):\n",
        "        labels.append(-1)\n",
        "    while(iteration > 0):\n",
        "        C = []\n",
        "        for i in range(k):\n",
        "            C.append([])\n",
        "        for labelIndex, item in enumerate(dataset):\n",
        "            classIndex = -1\n",
        "            minDist = 1e6\n",
        "            for i, point in enumerate(vectors):\n",
        "                dist = getEuclidean(item, point)\n",
        "                if(dist < minDist):\n",
        "                    classIndex = i\n",
        "                    minDist = dist\n",
        "            C[classIndex].append(item)\n",
        "            labels[labelIndex] = classIndex\n",
        "        for i, cluster in enumerate(C):\n",
        "            clusterHeart = []\n",
        "            dimension = len(dataset[0])\n",
        "            for j in range(dimension):\n",
        "                clusterHeart.append(0)\n",
        "            for item in cluster:\n",
        "                for j, coordinate in enumerate(item):\n",
        "                    clusterHeart[j] += coordinate / len(cluster)\n",
        "            vectors[i] = clusterHeart\n",
        "        iteration -= 1\n",
        "    return C, labels, index,vectors\n"
      ],
      "metadata": {
        "id": "roRK3313f3q5"
      },
      "execution_count": null,
      "outputs": []
    },
    {
      "cell_type": "markdown",
      "source": [
        "Please use the following code to test your function."
      ],
      "metadata": {
        "id": "0PB5J1ohl2VQ"
      }
    },
    {
      "cell_type": "code",
      "source": [
        "import math\n",
        "import matplotlib.pyplot as plt\n",
        "import random\n",
        "\n",
        "data = \"\"\"\n",
        "1,0.697,0.46,2,0.774,0.376,3,0.634,0.264,4,0.608,0.318,5,0.556,0.215,\n",
        "6,0.403,0.237,7,0.481,0.149,8,0.437,0.211,9,0.666,0.091,10,0.243,0.267,\n",
        "11,0.245,0.057,12,0.343,0.099,13,0.639,0.161,14,0.657,0.198,15,0.36,0.37,\n",
        "16,0.593,0.042,17,0.719,0.103,18,0.359,0.188,19,0.339,0.241,20,0.282,0.257,\n",
        "21,0.748,0.232,22,0.714,0.346,23,0.483,0.312,24,0.478,0.437,25,0.525,0.369,\n",
        "26,0.751,0.489,27,0.532,0.472,28,0.473,0.376,29,0.725,0.445,30,0.446,0.459\"\"\"\n",
        " \n",
        "\n",
        "a = data.split(',')\n",
        "dataset = [[float(a[i]), float(a[i+1])] for i in range(1, len(a)-1, 3)]\n",
        "print(dataset)\n",
        "\n",
        "\n",
        "Or_X=[]\n",
        "Or_Y=[]\n",
        "for item in dataset:\n",
        "  Or_X.append(item[0])\n",
        "  Or_Y.append(item[1])\n",
        "plt.scatter(Or_X, Or_Y, marker='o', color='y', label=0)\n",
        "\n",
        "StopDistance=0.0003\n",
        "K=1000\n",
        "C, labels, index,vectors = k_means(dataset, 3, K,StopDistance)\n",
        "DrawFun(C,labels,vectors)\n",
        "\n",
        "\n",
        "#print(index)\n",
        "#print(vectors)\n"
      ],
      "metadata": {
        "id": "7L-EsR9WhmW5"
      },
      "execution_count": null,
      "outputs": []
    },
    {
      "cell_type": "markdown",
      "source": [
        "# Question 3: Linear regression\n",
        "\n",
        "Please read the slides of chapter 3.2 and 3.3 and finish this assignment.\n",
        "\n",
        "You can find the demo for the linear regression with code in the following link\n",
        "https://colab.research.google.com/drive/1ONTJ_L_4CMcyJcXdCeljRntazdW1zjW6?usp=sharing\n",
        "\n",
        "Please follow this example to finish this assignment."
      ],
      "metadata": {
        "id": "Ug8UnkyBhrBq"
      }
    },
    {
      "cell_type": "markdown",
      "source": [
        "## The new equation and new dataset\n",
        "In this homework, you are given a new dataset. Please run the following code to check the data you got.\n",
        "\n",
        "\n",
        "Based on the dataset, it seems that we should use a new equation (new model) to fit the data.\n",
        "\n",
        "Let's use the following:\n",
        "\n",
        "y=ϴ0*x^2+ϴ1*x+ϴ2\n",
        "\n",
        "at first we set ϴ0=0, ϴ1=0, ϴ2=0"
      ],
      "metadata": {
        "id": "O17Qr4P5h6db"
      }
    },
    {
      "cell_type": "code",
      "source": [
        "import matplotlib.pyplot as plt\n",
        "import numpy as np\n",
        "\n",
        "\n",
        "x_GT = np.array([0, 0.5, 1, 1.5, 2, 3])\n",
        "y_GT = np.array([1, 0.25, 0, 0.25, 1, 4])\n",
        "plt.scatter(x_GT, y_GT,marker='x', color='r')\n",
        "#plt.show()\n",
        "\n",
        "Th0=0  #ϴ0\n",
        "Th1=0   #ϴ1\n",
        "Th2=0   #ϴ2\n",
        "xpoints = np.linspace(0, 3, 100)\n",
        "#y=theta0x+theta1 change this to y=ax2+bx+c\n",
        "#Y_p=Th0*xpoints+Th1\n",
        "\n",
        "#add your code here\n",
        "a=0\n",
        "b=0\n",
        "c=0\n",
        "Y_p=Th0*xpoints*xpoints+Th1*xpoints+Th2\n",
        "\n",
        "plt.plot(xpoints, Y_p)\n",
        "plt.show()"
      ],
      "metadata": {
        "id": "irzw3w-hiphr",
        "colab": {
          "base_uri": "https://localhost:8080/",
          "height": 265
        },
        "outputId": "d5e6e69f-a1e3-43b2-e953-13270cb5e543"
      },
      "execution_count": null,
      "outputs": [
        {
          "output_type": "display_data",
          "data": {
            "image/png": "[encoded data removed]",
            "text/plain": [
              "<Figure size 432x288 with 1 Axes>"
            ]
          },
          "metadata": {
            "needs_background": "light"
          }
        }
      ]
    },
    {
      "cell_type": "markdown",
      "source": [
        "Based on the linear regression algorithm, you need first obtain the data and propose a model, which we have done in the above. Now we need to calculate the loss and use gradient descent to calculate the parameters: ϴ0, ϴ1, ϴ2\n",
        "\n",
        "## Please design the gradient descent function for each step and the loss function by completing the following code\n",
        "\n",
        "Please read the slides of chapter 3.2 and 3.3 to implement the code.\n",
        "\n",
        "This function is just one step of the gradient descent. And this function will be called several time in the last code block, where we will run this function 6000 times in the \"for\" loop.\n",
        "\n",
        "**Tips**: write down the equations for gradient decent first by following the slides of chapter 3.2 and 3.3"
      ],
      "metadata": {
        "id": "lK-1Bfbqi-th"
      }
    },
    {
      "cell_type": "code",
      "source": [
        "def GradientDecent(Th0,Th1,Th2,x_GT,y_GT,Lr):\n",
        "  \n",
        "  ########################\n",
        "  # Input your code here #\n",
        "  ########################\n",
        "    \n",
        "   #formula from slide 37\n",
        "   # need to figure out derivates\n",
        "   #Th0 = Th0 - Lr*(deriv of Th0) * Loss\n",
        "  sum1 = 0\n",
        "  sum2 = 0\n",
        "  sum3 = 0\n",
        "  for i in range(len(x_GT)):\n",
        "    sum1 += (2 * ((Th0 * (x_GT[i] ** 2)) + (Th1 * x_GT[i]) + Th2 - y_GT[i]) * x_GT[i] * x_GT[i])\n",
        "    sum2 += (2 * ((Th0 * (x_GT[i] ** 2)) + (Th1 * x_GT[i]) + Th2 - y_GT[i]) * x_GT[i])\n",
        "    sum3 += (2 * ((Th0 * (x_GT[i] ** 2)) + (Th1 * x_GT[i]) + Th2 - y_GT[i]))\n",
        "  Th0 -= Lr * sum1\n",
        "  Th1 -= Lr * sum2\n",
        "  Th2 -= Lr * sum3\n",
        "\n",
        "\n",
        "\n",
        "    \n",
        "  ####################\n",
        "  # End of your code #\n",
        "  ####################\n",
        "  return Th0,Th1,Th2\n",
        "  \n",
        "def LossValue(Th0,Th1,Th2,x_GT,y_GT):\n",
        "  a=x_GT.shape[0]\n",
        "  Loss=0\n",
        "  ########################\n",
        "  # Input your code here #\n",
        "  ########################\n",
        "  \n",
        "  # put x in loss function, see how far from y\n",
        "  for i in range(len(x_GT)):\n",
        "    x = ((Th0 * (x_GT[i] ** 2)) + (Th1 * (x_GT[i])) + Th2)\n",
        "    Loss += (x - y_GT[i]) ** 2\n",
        "    \n",
        "    \n",
        "  ####################\n",
        "  # End of your code #\n",
        "  ####################\n",
        "  return Loss"
      ],
      "metadata": {
        "id": "acwcxqBBjMO7"
      },
      "execution_count": null,
      "outputs": []
    },
    {
      "cell_type": "markdown",
      "source": [
        "## The following is the iterations of the entire gradient descent. \n",
        "\n",
        "Please run the following code to test your code.\n",
        "\n",
        "In the following code, you will run the gradient descent 6000 times to calculate the ϴ0, ϴ1, ϴ2. The learning rate is set as 0.0005."
      ],
      "metadata": {
        "id": "0T4HJXJ6iotn"
      }
    },
    {
      "cell_type": "code",
      "source": [
        "Lr=0.0005 #  \n",
        "Iteration=6000\n",
        "for i in range(Iteration):\n",
        "  \n",
        "  Th0,Th1,Th2=GradientDecent(Th0,Th1,Th2,x_GT,y_GT,Lr)\n",
        "  if i<Iteration-2:\n",
        "    continue\n",
        "  plt.scatter(x_GT, y_GT,marker='x', color='r')\n",
        "  Y_p=Th0*xpoints*xpoints+Th1*xpoints+Th2\n",
        "  plt.plot(xpoints, Y_p)\n",
        "  plt.show()\n",
        "  L=LossValue(Th0,Th1,Th2,x_GT,y_GT)\n",
        "  print(L,Th0,Th1,Th2)"
      ],
      "metadata": {
        "id": "J7bbT-Eljzdh",
        "colab": {
          "base_uri": "https://localhost:8080/",
          "height": 548
        },
        "outputId": "44aa5896-55d9-4704-ea8e-9159309a2dd9"
      },
      "execution_count": null,
      "outputs": [
        {
          "output_type": "display_data",
          "data": {
            "image/png": "[encoded data removed]",
            "text/plain": [
              "<Figure size 432x288 with 1 Axes>"
            ]
          },
          "metadata": {
            "needs_background": "light"
          }
        },
        {
          "output_type": "stream",
          "name": "stdout",
          "text": [
            "0.02157623835671022 0.9412096176581113 -1.800503759391267 0.8884775869518914\n"
          ]
        },
        {
          "output_type": "display_data",
          "data": {
            "image/png": "[encoded data removed]",
            "text/plain": [
              "<Figure size 432x288 with 1 Axes>"
            ]
          },
          "metadata": {
            "needs_background": "light"
          }
        },
        {
          "output_type": "stream",
          "name": "stdout",
          "text": [
            "0.02155952352111863 0.9412323941483673 -1.8005810479544215 0.8885207928139514\n"
          ]
        }
      ]
    }
  ]
}